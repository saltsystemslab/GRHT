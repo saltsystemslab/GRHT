{
 "cells": [
  {
   "cell_type": "code",
   "execution_count": 7,
   "metadata": {},
   "outputs": [
    {
     "name": "stdout",
     "output_type": "stream",
     "text": [
      "['TRHM', 'GZHM_DELETE', 'RHM', 'GZHM', 'GRHM']\n"
     ]
    }
   ],
   "source": [
    "import sys\n",
    "import pandas as pd\n",
    "import os\n",
    "from matplotlib import pyplot as plt\n",
    "from scipy.stats import hmean\n",
    "import tikzplotlib\n",
    "\n",
    "dir_latency = \"./paper/gzhm_variants_latency\"\n",
    "dir_thrput = \"./paper/gzhm_external\"\n",
    "variants = next(os.walk(dir_latency))[1]\n",
    "print(variants)"
   ]
  },
  {
   "cell_type": "code",
   "execution_count": 10,
   "metadata": {},
   "outputs": [
    {
     "name": "stdout",
     "output_type": "stream",
     "text": [
      "DELETE\n",
      "\\begin{tabular}{llllll}\n",
      "\\toprule\n",
      " & TRHM & GZHM_DELETE & RHM & GZHM & GRHM \\\\\n",
      "\\midrule\n",
      "count & 1.32 ms & 1.32 ms & 1.32 ms & 1.32 ms & 1.32 ms \\\\\n",
      "mean & 10.49 us & 32.45 us & 109.56 us & 10.12 us & 9.98 us \\\\\n",
      "std & 1.31 us & 8.57 us & 26.90 us & 1.20 us & 1.12 us \\\\\n",
      "min & 8.01 us & 14.45 us & 32.88 us & 7.85 us & 7.67 us \\\\\n",
      "50% & 10.34 us & 31.14 us & 106.57 us & 10.02 us & 9.88 us \\\\\n",
      "90% & 11.53 us & 43.41 us & 145.08 us & 11.04 us & 10.90 us \\\\\n",
      "99% & 13.80 us & 58.80 us & 185.10 us & 12.65 us & 12.50 us \\\\\n",
      "99.99% & 28.66 us & 95.86 us & 330.76 us & 20.10 us & 18.95 us \\\\\n",
      "max & 281.55 us & 318.22 us & 477.60 us & 277.93 us & 266.06 us \\\\\n",
      "\\bottomrule\n",
      "\\end{tabular}\n",
      "\n",
      "INSERT\n",
      "\\begin{tabular}{llllll}\n",
      "\\toprule\n",
      " & TRHM & GZHM_DELETE & RHM & GZHM & GRHM \\\\\n",
      "\\midrule\n",
      "count & 1.32 ms & 1.32 ms & 1.32 ms & 1.32 ms & 1.32 ms \\\\\n",
      "mean & 17.16 us & 16.32 us & 38.88 us & 49.36 us & 58.24 us \\\\\n",
      "std & 1.73 us & 1.69 us & 4.64 us & 4.56 us & 7.84 ms \\\\\n",
      "min & 12.21 us & 12.17 us & 21.26 us & 35.53 us & 12.67 us \\\\\n",
      "50% & 17.01 us & 16.23 us & 38.64 us & 49.45 us & 17.18 us \\\\\n",
      "90% & 18.79 us & 17.86 us & 44.48 us & 54.48 us & 18.93 us \\\\\n",
      "99% & 21.76 us & 19.51 us & 49.89 us & 59.06 us & 20.82 us \\\\\n",
      "99.99% & 40.59 us & 36.16 us & 88.19 us & 112.51 us & 45.17 us \\\\\n",
      "max & 287.04 us & 288.99 us & 316.01 us & 325.68 us & 1614.08 ms \\\\\n",
      "\\bottomrule\n",
      "\\end{tabular}\n",
      "\n",
      "LOOKUP\n",
      "\\begin{tabular}{llllll}\n",
      "\\toprule\n",
      " & TRHM & GZHM_DELETE & RHM & GZHM & GRHM \\\\\n",
      "\\midrule\n",
      "count & 26.31 ms & 26.31 ms & 26.31 ms & 26.31 ms & 26.31 ms \\\\\n",
      "mean & 8.77 us & 8.50 us & 5.57 us & 8.63 us & 8.46 us \\\\\n",
      "std & 949.40 ns & 955.06 ns & 778.32 ns & 963.47 ns & 944.74 ns \\\\\n",
      "min & 6.46 us & 6.52 us & 4.07 us & 6.53 us & 6.48 us \\\\\n",
      "50% & 8.73 us & 8.46 us & 5.54 us & 8.59 us & 8.42 us \\\\\n",
      "90% & 9.52 us & 9.17 us & 6.12 us & 9.30 us & 9.12 us \\\\\n",
      "99% & 10.34 us & 9.87 us & 6.67 us & 10.00 us & 9.82 us \\\\\n",
      "99.99% & 15.68 us & 15.88 us & 10.89 us & 16.39 us & 15.12 us \\\\\n",
      "max & 277.96 us & 282.70 us & 276.73 us & 285.85 us & 288.87 us \\\\\n",
      "\\bottomrule\n",
      "\\end{tabular}\n",
      "\n"
     ]
    }
   ],
   "source": [
    "def humanize_nanoseconds(sec):\n",
    "    time_str = ('%.2f ns') % (sec)\n",
    "    if (sec > 1000):\n",
    "        time_str = ('%.2f us') % (sec / 1000.0)\n",
    "    if (sec > 1000_000):\n",
    "        time_str = ('%.2f ms') % (sec / 1000_000.0)\n",
    "    return time_str\n",
    "\n",
    "def latency_distribution(dir, ops):\n",
    "    summaries = pd.DataFrame()\n",
    "    all_summaries = pd.DataFrame()\n",
    "    for op in ops:\n",
    "        for d in variants:\n",
    "            df = pd.read_csv('./%s/%s/churn_latency.txt' % (dir, d), delim_whitespace=True)\n",
    "            df = df.loc[(df[\"op\"]==op)]\n",
    "            if (len(df)==0):\n",
    "                continue\n",
    "            summaries[f'{d}'] = df['latency'].describe(percentiles=[.50, .90, .99, .9999])\n",
    "        print(op)\n",
    "        hsum = pd.DataFrame()\n",
    "        for column in summaries.columns:\n",
    "            hsum[column] = (summaries[column].map(lambda x : humanize_nanoseconds(x)))\n",
    "        print(hsum.to_latex())\n",
    "latency_distribution(dir_latency, [\"DELETE\", \"INSERT\", \"LOOKUP\"])"
   ]
  },
  {
   "cell_type": "code",
   "execution_count": 1,
   "metadata": {},
   "outputs": [
    {
     "ename": "NameError",
     "evalue": "name 'dir_thrput' is not defined",
     "output_type": "error",
     "traceback": [
      "\u001b[0;31m---------------------------------------------------------------------------\u001b[0m",
      "\u001b[0;31mNameError\u001b[0m                                 Traceback (most recent call last)",
      "Cell \u001b[0;32mIn[1], line 26\u001b[0m\n\u001b[1;32m     24\u001b[0m     df[\u001b[39m'\u001b[39m\u001b[39mSpace Efficiency\u001b[39m\u001b[39m'\u001b[39m] \u001b[39m=\u001b[39m df[\u001b[39m'\u001b[39m\u001b[39mUSAGE\u001b[39m\u001b[39m'\u001b[39m]\u001b[39m.\u001b[39mmap(\u001b[39mlambda\u001b[39;00m x: (\u001b[39m100\u001b[39m \u001b[39m*\u001b[39m x) \u001b[39m/\u001b[39m (\u001b[39m0.95\u001b[39m \u001b[39m*\u001b[39m (\u001b[39m2\u001b[39m\u001b[39m*\u001b[39m\u001b[39m*\u001b[39m\u001b[39m22\u001b[39m) \u001b[39m*\u001b[39m \u001b[39m16\u001b[39m))\n\u001b[1;32m     25\u001b[0m     \u001b[39mprint\u001b[39m(df[[\u001b[39m'\u001b[39m\u001b[39mHashmap\u001b[39m\u001b[39m'\u001b[39m, \u001b[39m\"\u001b[39m\u001b[39mSize\u001b[39m\u001b[39m\"\u001b[39m, \u001b[39m\"\u001b[39m\u001b[39mSpace Efficiency\u001b[39m\u001b[39m\"\u001b[39m]]\u001b[39m.\u001b[39mto_latex(float_format\u001b[39m=\u001b[39m\u001b[39m\"\u001b[39m\u001b[39m%.2f\u001b[39;00m\u001b[39m\"\u001b[39m))\n\u001b[0;32m---> 26\u001b[0m memory_usage(dir_thrput)\n",
      "\u001b[0;31mNameError\u001b[0m: name 'dir_thrput' is not defined"
     ]
    }
   ],
   "source": [
    "def humanize_bytes(bytes):\n",
    "    bytes_str = ('%d B') % (bytes)\n",
    "    if (bytes > 1024):\n",
    "        bytes_str = ('%d KB') % (bytes / (1024))\n",
    "    if (bytes > 1024 * 1024):\n",
    "        bytes_str = ('%d MB') % (bytes / (1024* 1024))\n",
    "    if (bytes > 1024 * 1024 * 1024):\n",
    "        bytes_str = ('%d GB') % (bytes / (1024* 1024 * 1024))\n",
    "    return bytes_str\n",
    "\n",
    "def memory_usage(dir):    \n",
    "    data = []\n",
    "    labels = []\n",
    "    df = pd.DataFrame()\n",
    "    for d in variants:\n",
    "        f_variant = open(\"%s/%s/test_params.txt\" % (dir, d), \"r\")\n",
    "        lines = f_variant.readlines()\n",
    "        memory_usage = int(lines[0])\n",
    "        data.append(memory_usage)\n",
    "        labels.append(d)\n",
    "    df['Hashmap'] = labels\n",
    "    df['USAGE'] = data\n",
    "    df['Size'] = df['USAGE'].map(lambda x: humanize_bytes(x))\n",
    "    df['Space Efficiency'] = df['USAGE'].map(lambda x: (100 * x) / (0.95 * (2**22) * 16))\n",
    "    print(df[['Hashmap', \"Size\", \"Space Efficiency\"]].to_latex(float_format=\"%.2f\"))\n",
    "memory_usage(dir_thrput)"
   ]
  }
 ],
 "metadata": {
  "kernelspec": {
   "display_name": "Python 3",
   "language": "python",
   "name": "python3"
  },
  "language_info": {
   "codemirror_mode": {
    "name": "ipython",
    "version": 3
   },
   "file_extension": ".py",
   "mimetype": "text/x-python",
   "name": "python",
   "nbconvert_exporter": "python",
   "pygments_lexer": "ipython3",
   "version": "3.8.10"
  },
  "orig_nbformat": 4
 },
 "nbformat": 4,
 "nbformat_minor": 2
}
