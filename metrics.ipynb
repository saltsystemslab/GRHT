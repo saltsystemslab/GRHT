{
 "cells": [
  {
   "cell_type": "code",
   "execution_count": 1,
   "metadata": {},
   "outputs": [
    {
     "name": "stdout",
     "output_type": "stream",
     "text": [
      "['TRHM', 'GZHM']\n"
     ]
    }
   ],
   "source": [
    "import sys\n",
    "import pandas as pd\n",
    "import os\n",
    "from matplotlib import pyplot as plt\n",
    "from scipy.stats import hmean\n",
    "import tikzplotlib\n",
    "\n",
    "dir_latency = \"./paper/gzhm_variants_latency\"\n",
    "dir_thrput = \"./paper/gzhm_external\"\n",
    "variants = next(os.walk(dir_latency))[1]\n",
    "print(variants)"
   ]
  },
  {
   "cell_type": "code",
   "execution_count": 2,
   "metadata": {},
   "outputs": [
    {
     "name": "stdout",
     "output_type": "stream",
     "text": [
      "DELETE\n",
      "\\begin{tabular}{l}\n",
      "\\toprule\n",
      "\\midrule\n",
      "\\bottomrule\n",
      "\\end{tabular}\n",
      "\n",
      "INSERT\n",
      "\\begin{tabular}{l}\n",
      "\\toprule\n",
      "\\midrule\n",
      "\\bottomrule\n",
      "\\end{tabular}\n",
      "\n",
      "LOOKUP\n",
      "\\begin{tabular}{l}\n",
      "\\toprule\n",
      "\\midrule\n",
      "\\bottomrule\n",
      "\\end{tabular}\n",
      "\n"
     ]
    }
   ],
   "source": [
    "def humanize_nanoseconds(sec):\n",
    "    time_str = ('%.2f ns') % (sec)\n",
    "    if (sec > 1000):\n",
    "        time_str = ('%.2f us') % (sec / 1000.0)\n",
    "    if (sec > 1000_000):\n",
    "        time_str = ('%.2f ms') % (sec / 1000_000.0)\n",
    "    return time_str\n",
    "\n",
    "def latency_distribution(dir, ops):\n",
    "    summaries = pd.DataFrame()\n",
    "    all_summaries = pd.DataFrame()\n",
    "    for op in ops:\n",
    "        for d in variants:\n",
    "            df = pd.read_csv('./%s/%s/churn_latency.txt' % (dir, d), delim_whitespace=True)\n",
    "            df = df.loc[(df[\"op\"]==op)]\n",
    "            if (len(df)==0):\n",
    "                continue\n",
    "            summaries[f'{d}'] = df['latency'].describe(percentiles=[.50, .90, .99, .9999])\n",
    "        print(op)\n",
    "        hsum = pd.DataFrame()\n",
    "        for column in summaries.columns:\n",
    "            hsum[column] = (summaries[column].map(lambda x : humanize_nanoseconds(x)))\n",
    "        print(hsum.to_latex())\n",
    "latency_distribution(dir_latency, [\"DELETE\", \"INSERT\", \"LOOKUP\"])"
   ]
  },
  {
   "cell_type": "code",
   "execution_count": 3,
   "metadata": {},
   "outputs": [
    {
     "ename": "FileNotFoundError",
     "evalue": "[Errno 2] No such file or directory: './paper/gzhm_external/TRHM/test_params.txt'",
     "output_type": "error",
     "traceback": [
      "\u001b[0;31m---------------------------------------------------------------------------\u001b[0m",
      "\u001b[0;31mFileNotFoundError\u001b[0m                         Traceback (most recent call last)",
      "Cell \u001b[0;32mIn[3], line 26\u001b[0m\n\u001b[1;32m     24\u001b[0m     df[\u001b[39m'\u001b[39m\u001b[39mSpace Efficiency\u001b[39m\u001b[39m'\u001b[39m] \u001b[39m=\u001b[39m df[\u001b[39m'\u001b[39m\u001b[39mUSAGE\u001b[39m\u001b[39m'\u001b[39m]\u001b[39m.\u001b[39mmap(\u001b[39mlambda\u001b[39;00m x: (\u001b[39m100\u001b[39m \u001b[39m*\u001b[39m x) \u001b[39m/\u001b[39m (\u001b[39m0.95\u001b[39m \u001b[39m*\u001b[39m (\u001b[39m2\u001b[39m\u001b[39m*\u001b[39m\u001b[39m*\u001b[39m\u001b[39m22\u001b[39m) \u001b[39m*\u001b[39m \u001b[39m16\u001b[39m))\n\u001b[1;32m     25\u001b[0m     \u001b[39mprint\u001b[39m(df[[\u001b[39m'\u001b[39m\u001b[39mHashmap\u001b[39m\u001b[39m'\u001b[39m, \u001b[39m\"\u001b[39m\u001b[39mSize\u001b[39m\u001b[39m\"\u001b[39m, \u001b[39m\"\u001b[39m\u001b[39mSpace Efficiency\u001b[39m\u001b[39m\"\u001b[39m]]\u001b[39m.\u001b[39mto_latex(float_format\u001b[39m=\u001b[39m\u001b[39m\"\u001b[39m\u001b[39m%.2f\u001b[39;00m\u001b[39m\"\u001b[39m))\n\u001b[0;32m---> 26\u001b[0m memory_usage(dir_thrput)\n",
      "Cell \u001b[0;32mIn[3], line 16\u001b[0m, in \u001b[0;36mmemory_usage\u001b[0;34m(dir)\u001b[0m\n\u001b[1;32m     14\u001b[0m df \u001b[39m=\u001b[39m pd\u001b[39m.\u001b[39mDataFrame()\n\u001b[1;32m     15\u001b[0m \u001b[39mfor\u001b[39;00m d \u001b[39min\u001b[39;00m variants:\n\u001b[0;32m---> 16\u001b[0m     f_variant \u001b[39m=\u001b[39m \u001b[39mopen\u001b[39;49m(\u001b[39m\"\u001b[39;49m\u001b[39m%s\u001b[39;49;00m\u001b[39m/\u001b[39;49m\u001b[39m%s\u001b[39;49;00m\u001b[39m/test_params.txt\u001b[39;49m\u001b[39m\"\u001b[39;49m \u001b[39m%\u001b[39;49m (\u001b[39mdir\u001b[39;49m, d), \u001b[39m\"\u001b[39;49m\u001b[39mr\u001b[39;49m\u001b[39m\"\u001b[39;49m)\n\u001b[1;32m     17\u001b[0m     lines \u001b[39m=\u001b[39m f_variant\u001b[39m.\u001b[39mreadlines()\n\u001b[1;32m     18\u001b[0m     memory_usage \u001b[39m=\u001b[39m \u001b[39mint\u001b[39m(lines[\u001b[39m0\u001b[39m])\n",
      "File \u001b[0;32m~/.local/lib/python3.8/site-packages/IPython/core/interactiveshell.py:284\u001b[0m, in \u001b[0;36m_modified_open\u001b[0;34m(file, *args, **kwargs)\u001b[0m\n\u001b[1;32m    277\u001b[0m \u001b[39mif\u001b[39;00m file \u001b[39min\u001b[39;00m {\u001b[39m0\u001b[39m, \u001b[39m1\u001b[39m, \u001b[39m2\u001b[39m}:\n\u001b[1;32m    278\u001b[0m     \u001b[39mraise\u001b[39;00m \u001b[39mValueError\u001b[39;00m(\n\u001b[1;32m    279\u001b[0m         \u001b[39mf\u001b[39m\u001b[39m\"\u001b[39m\u001b[39mIPython won\u001b[39m\u001b[39m'\u001b[39m\u001b[39mt let you open fd=\u001b[39m\u001b[39m{\u001b[39;00mfile\u001b[39m}\u001b[39;00m\u001b[39m by default \u001b[39m\u001b[39m\"\u001b[39m\n\u001b[1;32m    280\u001b[0m         \u001b[39m\"\u001b[39m\u001b[39mas it is likely to crash IPython. If you know what you are doing, \u001b[39m\u001b[39m\"\u001b[39m\n\u001b[1;32m    281\u001b[0m         \u001b[39m\"\u001b[39m\u001b[39myou can use builtins\u001b[39m\u001b[39m'\u001b[39m\u001b[39m open.\u001b[39m\u001b[39m\"\u001b[39m\n\u001b[1;32m    282\u001b[0m     )\n\u001b[0;32m--> 284\u001b[0m \u001b[39mreturn\u001b[39;00m io_open(file, \u001b[39m*\u001b[39;49margs, \u001b[39m*\u001b[39;49m\u001b[39m*\u001b[39;49mkwargs)\n",
      "\u001b[0;31mFileNotFoundError\u001b[0m: [Errno 2] No such file or directory: './paper/gzhm_external/TRHM/test_params.txt'"
     ]
    }
   ],
   "source": [
    "def humanize_bytes(bytes):\n",
    "    bytes_str = ('%d B') % (bytes)\n",
    "    if (bytes > 1024):\n",
    "        bytes_str = ('%d KB') % (bytes / (1024))\n",
    "    if (bytes > 1024 * 1024):\n",
    "        bytes_str = ('%d MB') % (bytes / (1024* 1024))\n",
    "    if (bytes > 1024 * 1024 * 1024):\n",
    "        bytes_str = ('%d GB') % (bytes / (1024* 1024 * 1024))\n",
    "    return bytes_str\n",
    "\n",
    "def memory_usage(dir):    \n",
    "    data = []\n",
    "    labels = []\n",
    "    df = pd.DataFrame()\n",
    "    for d in variants:\n",
    "        f_variant = open(\"%s/%s/test_params.txt\" % (dir, d), \"r\")\n",
    "        lines = f_variant.readlines()\n",
    "        memory_usage = int(lines[0])\n",
    "        data.append(memory_usage)\n",
    "        labels.append(d)\n",
    "    df['Hashmap'] = labels\n",
    "    df['USAGE'] = data\n",
    "    df['Size'] = df['USAGE'].map(lambda x: humanize_bytes(x))\n",
    "    df['Space Efficiency'] = df['USAGE'].map(lambda x: (100 * x) / (0.95 * (2**22) * 16))\n",
    "    print(df[['Hashmap', \"Size\", \"Space Efficiency\"]].to_latex(float_format=\"%.2f\"))\n",
    "memory_usage(dir_thrput)"
   ]
  }
 ],
 "metadata": {
  "kernelspec": {
   "display_name": "Python 3",
   "language": "python",
   "name": "python3"
  },
  "language_info": {
   "codemirror_mode": {
    "name": "ipython",
    "version": 3
   },
   "file_extension": ".py",
   "mimetype": "text/x-python",
   "name": "python",
   "nbconvert_exporter": "python",
   "pygments_lexer": "ipython3",
   "version": "3.8.10"
  },
  "orig_nbformat": 4
 },
 "nbformat": 4,
 "nbformat_minor": 2
}
